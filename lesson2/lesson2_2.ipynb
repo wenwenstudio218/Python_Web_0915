{
 "cells": [
  {
   "cell_type": "code",
   "execution_count": null,
   "id": "12c80f80",
   "metadata": {},
   "outputs": [],
   "source": [
    "print(\"Hello World!\")"
   ]
  },
  {
   "cell_type": "code",
   "execution_count": 1,
   "id": "d34c0af1",
   "metadata": {},
   "outputs": [
    {
     "name": "stdout",
     "output_type": "stream",
     "text": [
      "Hello World!\n"
     ]
    }
   ],
   "source": [
    "print(\"Hello World!\")"
   ]
  },
  {
   "cell_type": "code",
   "execution_count": 2,
   "id": "d80a2022",
   "metadata": {},
   "outputs": [
    {
     "name": "stdout",
     "output_type": "stream",
     "text": [
      "        *        \n",
      "       ***       \n",
      "      *****      \n",
      "     *********   \n",
      "    ***********  \n",
      "   ************* \n",
      "        |||      \n",
      "       =====     \n"
     ]
    }
   ],
   "source": [
    "# 定義一個沒有參數,沒有傳出值的function\n",
    "# todo:建立一個可以使用print()劃出聖誕樹的function\n",
    "# 必需要有說明docstring\n",
    "def draw_christmas_tree():\n",
    "    \"\"\"\n",
    "    這個函數會印出一個簡單的 ASCII 藝術聖誕樹。\n",
    "    \"\"\"\n",
    "    print(\"        *        \")\n",
    "    print(\"       ***       \")\n",
    "    print(\"      *****      \")\n",
    "    print(\"     *********   \")\n",
    "    print(\"    ***********  \")\n",
    "    print(\"   ************* \")\n",
    "    print(\"        |||      \")\n",
    "    print(\"       =====     \")\n",
    "\n",
    "draw_christmas_tree()"
   ]
  },
  {
   "cell_type": "code",
   "execution_count": 8,
   "id": "74404d85",
   "metadata": {},
   "outputs": [],
   "source": [
    "# 自訂的function,有參數,有傳出值\n",
    "# todo:建立一個簡單問候函數\n",
    "# 名稱:greet_person(snake_case)\n",
    "# 參數:name,greeting,greeting有預設值\n",
    "def greet_person(name:str, greeting:str=\"哈囉\"):\n",
    "    \"\"\"\n",
    "    這個函數會根據提供的名字和問候語來返回一個問候訊息。\n",
    "\n",
    "    參數:\n",
    "    name (str): 要問候的人的名字。\n",
    "    greeting (str): 問候語，預設為 \"Hello\"。\n",
    "\n",
    "    回傳:\n",
    "    str: 格式化的問候訊息。\n",
    "    \"\"\"\n",
    "    return f\"{greeting}, {name}!\""
   ]
  },
  {
   "cell_type": "code",
   "execution_count": 9,
   "id": "f8125d7d",
   "metadata": {},
   "outputs": [
    {
     "name": "stdout",
     "output_type": "stream",
     "text": [
      "哈囉, Cindy!\n"
     ]
    }
   ],
   "source": [
    "# 使用最少的引數值呼叫\n",
    "greet_person(\"Cindy\")\n",
    "print(greet_person(\"Cindy\"))"
   ]
  },
  {
   "cell_type": "code",
   "execution_count": 11,
   "id": "0e8ddfc8",
   "metadata": {},
   "outputs": [
    {
     "name": "stdout",
     "output_type": "stream",
     "text": [
      "你好, Cindy!\n"
     ]
    }
   ],
   "source": [
    "print(greet_person(\"Cindy\",\"你好\"))"
   ]
  }
 ],
 "metadata": {
  "kernelspec": {
   "display_name": "Python_Web_0915",
   "language": "python",
   "name": "python3"
  },
  "language_info": {
   "codemirror_mode": {
    "name": "ipython",
    "version": 3
   },
   "file_extension": ".py",
   "mimetype": "text/x-python",
   "name": "python",
   "nbconvert_exporter": "python",
   "pygments_lexer": "ipython3",
   "version": "3.10.18"
  }
 },
 "nbformat": 4,
 "nbformat_minor": 5
}
