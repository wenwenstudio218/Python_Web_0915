{
 "cells": [
  {
   "cell_type": "code",
   "execution_count": 3,
   "id": "007dcfac",
   "metadata": {},
   "outputs": [],
   "source": [
    "# args可變長度參數\n",
    "# todo:計算總和的function\n",
    "# 參數:*args\n",
    "# return:總和\n",
    "def sum_all(*args): #沒有限定數量的引數值呼叫\n",
    "    print(args) #args會是一個tuple\n",
    "    total = 0\n",
    "    for n in args:\n",
    "        total += n\n",
    "    return total"
   ]
  },
  {
   "cell_type": "code",
   "execution_count": 2,
   "id": "cc8c3e12",
   "metadata": {},
   "outputs": [
    {
     "name": "stdout",
     "output_type": "stream",
     "text": [
      "()\n",
      "(1, 2, 3, 4, 5)\n",
      "(10, 20, 30)\n"
     ]
    },
    {
     "data": {
      "text/plain": [
       "60"
      ]
     },
     "execution_count": 2,
     "metadata": {},
     "output_type": "execute_result"
    }
   ],
   "source": [
    "sum_all()\n",
    "sum_all(1,2,3,4,5)\n",
    "sum_all(10,20,30)"
   ]
  },
  {
   "cell_type": "code",
   "execution_count": 4,
   "id": "8361dff9",
   "metadata": {},
   "outputs": [],
   "source": [
    "# **kwargs 可變長度參數(關鍵字參數)\n",
    "# todo:自訂function\n",
    "# 名稱:create_student_info\n",
    "# 參數:**kwargs\n",
    "# return(dict):student_info\n",
    "\n",
    "def create_student_info(**kwargs): #沒有限定數量的引數名稱呼叫\n",
    "    student_info = {}\n",
    "    print(kwargs)  # kwargs會是一個dict\n",
    "    for key, value in kwargs.items():\n",
    "        student_info[key] = value\n",
    "    return student_info"
   ]
  },
  {
   "cell_type": "code",
   "execution_count": 5,
   "id": "fc5f5b85",
   "metadata": {},
   "outputs": [
    {
     "name": "stdout",
     "output_type": "stream",
     "text": [
      "{'name': 'robert', 'age': 20, 'major': 'CS'}\n"
     ]
    },
    {
     "data": {
      "text/plain": [
       "{'name': 'robert', 'age': 20, 'major': 'CS'}"
      ]
     },
     "execution_count": 5,
     "metadata": {},
     "output_type": "execute_result"
    }
   ],
   "source": [
    "create_student_info(name=\"robert\", age=20, major=\"CS\")"
   ]
  },
  {
   "cell_type": "code",
   "execution_count": 6,
   "id": "0877e9c4",
   "metadata": {},
   "outputs": [
    {
     "name": "stdout",
     "output_type": "stream",
     "text": [
      "{'name': 'alice', 'age': 22, 'major': 'Math', 'gpa': 3.8}\n"
     ]
    },
    {
     "data": {
      "text/plain": [
       "{'name': 'alice', 'age': 22, 'major': 'Math', 'gpa': 3.8}"
      ]
     },
     "execution_count": 6,
     "metadata": {},
     "output_type": "execute_result"
    }
   ],
   "source": [
    "create_student_info(name=\"alice\", age=22, major=\"Math\", gpa=3.8)"
   ]
  },
  {
   "cell_type": "code",
   "execution_count": 7,
   "id": "6ac36341",
   "metadata": {},
   "outputs": [
    {
     "name": "stdout",
     "output_type": "stream",
     "text": [
      "密碼強度檢查\n",
      "\n",
      "\n",
      "===============\n"
     ]
    }
   ],
   "source": [
    "# 密碼強度檢查\n",
    "print(\"密碼強度檢查\")\n",
    "print()\n",
    "print()\n",
    "print(\"===============\")"
   ]
  },
  {
   "cell_type": "code",
   "execution_count": 8,
   "id": "744ef6a7",
   "metadata": {},
   "outputs": [
    {
     "name": "stdout",
     "output_type": "stream",
     "text": [
      "a-b-c END\n"
     ]
    }
   ],
   "source": [
    "print(\"a\", \"b\", \"c\", sep=\"-\", end=\" END\\n\")"
   ]
  },
  {
   "cell_type": "code",
   "execution_count": 9,
   "id": "7f065435",
   "metadata": {},
   "outputs": [
    {
     "name": "stdout",
     "output_type": "stream",
     "text": [
      "a-b-c END\n"
     ]
    }
   ],
   "source": [
    "print(\"a\", \"b\", \"c\", end=\" END\\n\", sep=\"-\") "
   ]
  }
 ],
 "metadata": {
  "kernelspec": {
   "display_name": "Python_Web_0915",
   "language": "python",
   "name": "python3"
  },
  "language_info": {
   "codemirror_mode": {
    "name": "ipython",
    "version": 3
   },
   "file_extension": ".py",
   "mimetype": "text/x-python",
   "name": "python",
   "nbconvert_exporter": "python",
   "pygments_lexer": "ipython3",
   "version": "3.10.18"
  }
 },
 "nbformat": 4,
 "nbformat_minor": 5
}
