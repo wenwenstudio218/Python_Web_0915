{
 "cells": [
  {
   "cell_type": "code",
   "execution_count": 1,
   "id": "7482afe9",
   "metadata": {},
   "outputs": [],
   "source": [
    "# 定義類別\n",
    "\n",
    "class Car():\n",
    "    pass\n"
   ]
  },
  {
   "cell_type": "code",
   "execution_count": 2,
   "id": "7d7d217f",
   "metadata": {},
   "outputs": [
    {
     "data": {
      "text/plain": [
       "__main__.Car"
      ]
     },
     "execution_count": 2,
     "metadata": {},
     "output_type": "execute_result"
    }
   ],
   "source": [
    "car1 = Car()\n",
    "type(car1)"
   ]
  },
  {
   "cell_type": "code",
   "execution_count": null,
   "id": "ae07cd56",
   "metadata": {},
   "outputs": [],
   "source": [
    "class Dog():\n",
    "    def __init__(self,name,age): #實體屬性\n",
    "        self.name = name\n",
    "        self.age = age\n",
    "    \n",
    "    def bark(self): #實體方法\n",
    "        return f\"{self.name} 汪汪叫!\""
   ]
  },
  {
   "cell_type": "code",
   "execution_count": 8,
   "id": "447aa696",
   "metadata": {},
   "outputs": [
    {
     "name": "stdout",
     "output_type": "stream",
     "text": [
      "小白\n",
      "3\n"
     ]
    },
    {
     "data": {
      "text/plain": [
       "'小白 汪汪叫!'"
      ]
     },
     "execution_count": 8,
     "metadata": {},
     "output_type": "execute_result"
    }
   ],
   "source": [
    "dog1 = Dog(\"小白\",3)\n",
    "print(dog1.name)\n",
    "print(dog1.age)\n",
    "dog1.bark()"
   ]
  },
  {
   "cell_type": "code",
   "execution_count": 5,
   "id": "1dc266bd",
   "metadata": {},
   "outputs": [
    {
     "name": "stdout",
     "output_type": "stream",
     "text": [
      "Max\n",
      "5\n"
     ]
    }
   ],
   "source": [
    "dog2 = Dog(\"Max\",5)\n",
    "print(dog2.name)\n",
    "print(dog2.age)"
   ]
  },
  {
   "cell_type": "code",
   "execution_count": 6,
   "id": "3781bd67",
   "metadata": {},
   "outputs": [
    {
     "name": "stdout",
     "output_type": "stream",
     "text": [
      "Bella\n",
      "2\n"
     ]
    }
   ],
   "source": [
    "dog3 = Dog(\"Bella\",2)\n",
    "print(dog3.name)\n",
    "print(dog3.age)"
   ]
  }
 ],
 "metadata": {
  "kernelspec": {
   "display_name": "Python_Web_0915",
   "language": "python",
   "name": "python3"
  },
  "language_info": {
   "codemirror_mode": {
    "name": "ipython",
    "version": 3
   },
   "file_extension": ".py",
   "mimetype": "text/x-python",
   "name": "python",
   "nbconvert_exporter": "python",
   "pygments_lexer": "ipython3",
   "version": "3.10.18"
  }
 },
 "nbformat": 4,
 "nbformat_minor": 5
}
