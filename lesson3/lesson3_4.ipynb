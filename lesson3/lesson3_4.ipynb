{
 "cells": [
  {
   "cell_type": "code",
   "execution_count": 4,
   "id": "6f62b9fe",
   "metadata": {},
   "outputs": [
    {
     "name": "stdout",
     "output_type": "stream",
     "text": [
      "出現錯誤，錯誤是名字錯誤\n"
     ]
    }
   ],
   "source": [
    "try:\n",
    "    raise NameError(\"名字錯誤\")\n",
    "    print(\"Hello\") #raise底下的內容永不執行\n",
    "except Exception as e: \n",
    "    print(f\"出現錯誤，錯誤是{e}\") #try中的內容有錯誤執行這行(不中斷程式)\n",
    "else:\n",
    "    print(\"沒有錯誤\")"
   ]
  },
  {
   "cell_type": "code",
   "execution_count": 8,
   "id": "26e84caa",
   "metadata": {},
   "outputs": [
    {
     "name": "stdout",
     "output_type": "stream",
     "text": [
      "Hello\n",
      "沒有錯誤\n"
     ]
    }
   ],
   "source": [
    "try:\n",
    "    # raise NameError(\"名字錯誤\")\n",
    "    print(\"Hello\")\n",
    "except NameError:\n",
    "    print(\"名字錯誤\")\n",
    "except Exception as e: \n",
    "    print(f\"出現錯誤，錯誤是{e}\") #try中的內容有錯誤執行這行(不中斷程式)\n",
    "else:\n",
    "    print(\"沒有錯誤\")"
   ]
  }
 ],
 "metadata": {
  "kernelspec": {
   "display_name": "Python_Web_0915",
   "language": "python",
   "name": "python3"
  },
  "language_info": {
   "codemirror_mode": {
    "name": "ipython",
    "version": 3
   },
   "file_extension": ".py",
   "mimetype": "text/x-python",
   "name": "python",
   "nbconvert_exporter": "python",
   "pygments_lexer": "ipython3",
   "version": "3.10.18"
  }
 },
 "nbformat": 4,
 "nbformat_minor": 5
}
