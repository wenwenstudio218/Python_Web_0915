{
 "cells": [
  {
   "cell_type": "code",
   "execution_count": 1,
   "id": "6b9342d9",
   "metadata": {},
   "outputs": [],
   "source": [
    "class Person: #父類別\n",
    "    def __init__(self,name): #自訂的初始化\n",
    "        self.name = name #attribute\n",
    "\n",
    "    def greeting(self):\n",
    "        print(f\"您好，{self.name}!\") #method"
   ]
  },
  {
   "cell_type": "code",
   "execution_count": 2,
   "id": "d9c9d6ce",
   "metadata": {},
   "outputs": [
    {
     "name": "stdout",
     "output_type": "stream",
     "text": [
      "您好，cindy!\n",
      "您好，mandy!\n"
     ]
    }
   ],
   "source": [
    "p1:Person = Person(\"cindy\")\n",
    "# print(p1.name)\n",
    "p1.greeting()\n",
    "\n",
    "p2:Person = Person(name = \"mandy\")\n",
    "# print(p2.name)\n",
    "p2.greeting()"
   ]
  },
  {
   "cell_type": "code",
   "execution_count": 3,
   "id": "ad952b33",
   "metadata": {},
   "outputs": [],
   "source": [
    "class Student(Person): #子類別\n",
    "    def __init__(self,name,chinese,english,math):\n",
    "        super().__init__(name) #super():呼叫父類別的方法\n",
    "        self.__chinese = chinese #使用__會對該名稱進行「名稱轉換」（name mangling），表示對一個私有屬性的存取，為內部要用的資訊，外部無法更動\n",
    "        self.__english = english\n",
    "        self.__math = math\n",
    "\n",
    "    @property #decorator裝飾器:設為唯讀屬性 (只能讀出，不能寫入read only)\n",
    "    def chinese(self):\n",
    "        return self.__chinese\n",
    "    \n",
    "    @property\n",
    "    def english(self):\n",
    "        return self.__english\n",
    "    \n",
    "    @property\n",
    "    def math(self):\n",
    "        return self.__math\n",
    "\n",
    "    def greeting(self): #overwrite(覆寫)父類別的實體方法\n",
    "        # print(f\"您好，我是學生{self.name}\")\n",
    "        super().greeting()\n",
    "        print(\"我是一個學生\")\n",
    "\n",
    "    def total(self):\n",
    "        return self.chinese + self.english + self.math\n",
    "    \n",
    "    def average(self):\n",
    "        return self.total() / 3.0\n",
    "    \n",
    "    def __repr__(self):\n",
    "        return f\"\"\"\n",
    "        我是一個學生\n",
    "        我的名字是{self.name}\n",
    "        我的總分是{self.total()}\n",
    "        我的平均是{self.average()}\n",
    "        \"\"\"\n"
   ]
  },
  {
   "cell_type": "code",
   "execution_count": 4,
   "id": "defdc5b3",
   "metadata": {},
   "outputs": [
    {
     "name": "stdout",
     "output_type": "stream",
     "text": [
      "daniel\n",
      "國文分數：100\n",
      "英文分數：78\n",
      "數學分數：92\n",
      "總分：270\n",
      "平均：90.0\n",
      "您好，daniel!\n",
      "我是一個學生\n"
     ]
    }
   ],
   "source": [
    "s1 = Student(\"daniel\",english=78,math=92,chinese=100) #使用引數名稱呼叫不用按照順序\n",
    "print(s1.name)\n",
    "\n",
    "# s1.chinese = 100\n",
    "# s1.english = 100\n",
    "# s1.math = 100\n",
    "print(f\"國文分數：{s1.chinese}\")\n",
    "print(f\"英文分數：{s1.english}\")\n",
    "print(f\"數學分數：{s1.math}\")\n",
    "print(f\"總分：{s1.total()}\")\n",
    "print(f\"平均：{s1.average()}\")\n",
    "s1.greeting()"
   ]
  },
  {
   "cell_type": "code",
   "execution_count": 5,
   "id": "c149c48b",
   "metadata": {},
   "outputs": [
    {
     "name": "stdout",
     "output_type": "stream",
     "text": [
      "\n",
      "        我是一個學生\n",
      "        我的名字是daniel\n",
      "        我的總分是270\n",
      "        我的平均是90.0\n",
      "        \n"
     ]
    }
   ],
   "source": [
    "print(s1)"
   ]
  }
 ],
 "metadata": {
  "kernelspec": {
   "display_name": "Python_Web_0915",
   "language": "python",
   "name": "python3"
  },
  "language_info": {
   "codemirror_mode": {
    "name": "ipython",
    "version": 3
   },
   "file_extension": ".py",
   "mimetype": "text/x-python",
   "name": "python",
   "nbconvert_exporter": "python",
   "pygments_lexer": "ipython3",
   "version": "3.10.18"
  }
 },
 "nbformat": 4,
 "nbformat_minor": 5
}
