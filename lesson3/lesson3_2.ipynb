{
 "cells": [
  {
   "cell_type": "code",
   "execution_count": 2,
   "id": "2f365660",
   "metadata": {},
   "outputs": [],
   "source": [
    "def sum(*args): #文件內自訂的function *args:沒有限制數量的引數值呼叫\n",
    "    total = 0\n",
    "    for value in args:\n",
    "        total += value\n",
    "    return total"
   ]
  },
  {
   "cell_type": "code",
   "execution_count": 3,
   "id": "a711f0d4",
   "metadata": {},
   "outputs": [
    {
     "data": {
      "text/plain": [
       "55"
      ]
     },
     "execution_count": 3,
     "metadata": {},
     "output_type": "execute_result"
    }
   ],
   "source": [
    "sum(1,2,3,4,5,6,7,8,9,10)"
   ]
  },
  {
   "cell_type": "code",
   "execution_count": null,
   "id": "075fc1c9",
   "metadata": {},
   "outputs": [],
   "source": [
    "class Tools: #不用建立實體\n",
    "    @staticmethod  #修飾運算子(裝飾器)\n",
    "    def sum(*args): #文件內自訂的function\n",
    "        total = 0\n",
    "        for value in args:\n",
    "            total += value\n",
    "        return total\n",
    "\n",
    "    @classmethod \n",
    "    def sum1(cls,*args):\n",
    "        total = 0\n",
    "        for value in args:\n",
    "            total += value\n",
    "        return total\n"
   ]
  },
  {
   "cell_type": "code",
   "execution_count": 6,
   "id": "8ea35c17",
   "metadata": {},
   "outputs": [
    {
     "data": {
      "text/plain": [
       "55"
      ]
     },
     "execution_count": 6,
     "metadata": {},
     "output_type": "execute_result"
    }
   ],
   "source": [
    "Tools.sum(1,2,3,4,5,6,7,8,9,10)"
   ]
  }
 ],
 "metadata": {
  "kernelspec": {
   "display_name": "Python_Web_0915",
   "language": "python",
   "name": "python3"
  },
  "language_info": {
   "codemirror_mode": {
    "name": "ipython",
    "version": 3
   },
   "file_extension": ".py",
   "mimetype": "text/x-python",
   "name": "python",
   "nbconvert_exporter": "python",
   "pygments_lexer": "ipython3",
   "version": "3.10.18"
  }
 },
 "nbformat": 4,
 "nbformat_minor": 5
}
